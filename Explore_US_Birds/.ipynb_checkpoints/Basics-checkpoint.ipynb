{
 "cells": [
  {
   "cell_type": "markdown",
   "metadata": {},
   "source": [
    "# Guided Project: Explore U.S. Births\n",
    "## Author: Rubén Flecha\n",
    "\n",
    "In the last guided project, we explored the Jupyter notebook environment and worked with a dataset on births in the U.S. In this guided project, we'll continue working with the same dataset, compiled by FiveThirtyEight. When you're finished, you can compare your work to the reference solution.\n",
    "The dataset contains the following columns:\n",
    "\n",
    "* year: Year (1994 to 2003).\n",
    "* month: Month (1 to 12).\n",
    "* date_of_month: Day number of the month (1 to 31).\n",
    "* day_of_week: Day of week (1 to 7).\n",
    "* births: Number of births that day.\n",
    "* First things first, let's read in the CSV file and explore it.\n",
    "\n",
    "# 1. Introduction To The Dataset\n",
    "* Read the CSV file \"US_births_1994-2003_CDC_NCHS.csv\" into a string.\n",
    "* Split the string on the newline character (\"\\n\").\n",
    "* Display the first 10 values in the resulting list."
   ]
  },
  {
   "cell_type": "code",
   "execution_count": 5,
   "metadata": {},
   "outputs": [
    {
     "data": {
      "text/plain": [
       "['year,month,date_of_month,day_of_week,births',\n",
       " '1994,1,1,6,8096',\n",
       " '1994,1,2,7,7772',\n",
       " '1994,1,3,1,10142',\n",
       " '1994,1,4,2,11248',\n",
       " '1994,1,5,3,11053',\n",
       " '1994,1,6,4,11406',\n",
       " '1994,1,7,5,11251',\n",
       " '1994,1,8,6,8653',\n",
       " '1994,1,9,7,7910']"
      ]
     },
     "execution_count": 5,
     "metadata": {},
     "output_type": "execute_result"
    }
   ],
   "source": [
    "# Solution\n",
    "\n",
    "# Read the CSV file \"US_births_1994-2003_CDC_NCHS.csv\" into a string.\n",
    "f = open(\"US_births_1994-2003_CDC_NCHS.csv\", 'r')\n",
    "text = f.read()\n",
    "\n",
    "# Split the string on the newline character (\"\\n\")\n",
    "lines_list = text.split(\"\\n\")\n",
    "\n",
    "# Display the first 10 values in the resulting list.\n",
    "lines_list[0:10]"
   ]
  },
  {
   "cell_type": "markdown",
   "metadata": {},
   "source": [
    "# 2. Converting Data Into A List Of Lists\n",
    "\n",
    "While a list of strings helps us get a general picture of the dataset, we need to convert it to a more structured format to be able to analyze it. Specifically, we need to convert the dataset into a list of lists where each nested list contains integer values (not strings). We also need to remove the header row.\n",
    "\n",
    "## Instructions\n",
    "\n",
    "* Create a function named read_csv() that:\n",
    "    * Takes a single, required argument, a string representing the file name of the CSV file.\n",
    "    * Reads the file into a string, splits the string on the newline character (\"\\n\"), and removes the header row. Assign this list to string_list and create an empty list named final_list. \n",
    "    * Uses a for loop to:\n",
    "        * Iterate over string_list,  \n",
    "        * Create an empty list named int_fields,\n",
    "        * Splits each row on the comma delimiter (,) and assigns the resulting list to string_fields,\n",
    "        * Converts each value in string_fields to an integer and appends to int_fields,\n",
    "        * Appends int_fields to final_list.\n",
    "    * Returns final_list.\n",
    "* Use the read_csv() function to read in the file \"US_births_1994-2003_CDC_NCHS.csv\" and assign the result to cdc_list.\n",
    "* Display the first 10 rows of cdc_list to confirm it's a list of lists, containing only integer values, and no header row."
   ]
  },
  {
   "cell_type": "code",
   "execution_count": 6,
   "metadata": {},
   "outputs": [
    {
     "data": {
      "text/plain": [
       "[[1994, 1, 1, 6, 8096],\n",
       " [1994, 1, 2, 7, 7772],\n",
       " [1994, 1, 3, 1, 10142],\n",
       " [1994, 1, 4, 2, 11248],\n",
       " [1994, 1, 5, 3, 11053],\n",
       " [1994, 1, 6, 4, 11406],\n",
       " [1994, 1, 7, 5, 11251],\n",
       " [1994, 1, 8, 6, 8653],\n",
       " [1994, 1, 9, 7, 7910],\n",
       " [1994, 1, 10, 1, 10498]]"
      ]
     },
     "execution_count": 6,
     "metadata": {},
     "output_type": "execute_result"
    }
   ],
   "source": [
    "# Solution\n",
    "def read_csv(file_name):\n",
    "    a = open(file_name).read()\n",
    "    string_list = a.split(\"\\n\")[1:]\n",
    "    final_list = []\n",
    "    \n",
    "    for i in string_list:\n",
    "        string_fields=i.split(\",\")\n",
    "        int_fields = []\n",
    "        for j in string_fields:\n",
    "            int_fields.append(int(j))\n",
    "        final_list.append(int_fields)\n",
    "    return(final_list)\n",
    "\n",
    "cdc_list = read_csv(\"US_births_1994-2003_CDC_NCHS.csv\")\n",
    "cdc_list[0:10]"
   ]
  },
  {
   "cell_type": "markdown",
   "metadata": {},
   "source": [
    "# 3. Calculating Number Of Births Each Month\n",
    "Now that the data is in a more usable format, we can start to analyze it. Let's calculate the total number of births that occured in each month, across all of the years in the dataset. We'll create a dictionary where each key is a unique month and each value is the number of births that happened in that month, across all years\n",
    "\n",
    "## Instructions\n",
    "* Create a function named month_births() that:\n",
    "    * Takes a single, required argument, a list of lists.\n",
    "    * Creates an empty dictionary, births_per_month, to store the monthly totals.\n",
    "    * Uses a for loop to:\n",
    "        * Iterate over the list of lists,\n",
    "        * Extract the value in the month and births columns,\n",
    "        * If the month value already exists as a key in births_per_month, the births value is added to the existing value,\n",
    "        * If the month value doesn't exist as a key in births_per_month, it's created and the associated value is the births value.\n",
    "    * After the loop, return the births_per_month dictionary.\n",
    "* Use the month_births() function to calculate the monthly totals for the dataset and assign the result to cdc_month_births. Display the dictionary."
   ]
  },
  {
   "cell_type": "code",
   "execution_count": 11,
   "metadata": {},
   "outputs": [
    {
     "data": {
      "text/plain": [
       "{1: 3232517,\n",
       " 2: 3018140,\n",
       " 3: 3322069,\n",
       " 4: 3185314,\n",
       " 5: 3350907,\n",
       " 6: 3296530,\n",
       " 7: 3498783,\n",
       " 8: 3525858,\n",
       " 9: 3439698,\n",
       " 10: 3378814,\n",
       " 11: 3171647,\n",
       " 12: 3301860}"
      ]
     },
     "execution_count": 11,
     "metadata": {},
     "output_type": "execute_result"
    }
   ],
   "source": [
    "def month_births(list_of_lists):\n",
    "    births_per_month = {}\n",
    "    for k in list_of_lists:\n",
    "        month = k[1]\n",
    "        births = k[4]\n",
    "        if month in births_per_month:\n",
    "            births_per_month[month] = births_per_month[month] + births\n",
    "        else:\n",
    "            births_per_month[month] = births\n",
    "    return (births_per_month)\n",
    "\n",
    "cdc_month_births = month_births(cdc_list)\n",
    "cdc_month_births"
   ]
  },
  {
   "cell_type": "markdown",
   "metadata": {},
   "source": [
    "# 4. Calculating Number Of Births Each Day Of Week\n",
    "Let's now create a function that calculates the total number of births for each unique day of the week.\n",
    "\n",
    "## Instructions\n",
    "* Create a function named dow_births() that takes a single, required argument (a list of lists) and returns a dictionary containing the total number of births for each unique value of the day_of_week column.\n",
    "* Use the dow_births() function to return the day-of-week totals for the dataset and assign the result to cdc_day_births. Display the dictionary."
   ]
  },
  {
   "cell_type": "code",
   "execution_count": 12,
   "metadata": {},
   "outputs": [
    {
     "data": {
      "text/plain": [
       "{6: 4562111,\n",
       " 7: 4079723,\n",
       " 1: 5789166,\n",
       " 2: 6446196,\n",
       " 3: 6322855,\n",
       " 4: 6288429,\n",
       " 5: 6233657}"
      ]
     },
     "execution_count": 12,
     "metadata": {},
     "output_type": "execute_result"
    }
   ],
   "source": [
    "def dow_births(list_of_lists):\n",
    "    births_per_day_of_week = {}\n",
    "    for l in list_of_lists:\n",
    "        day_of_week = l[3]\n",
    "        births = l[4]\n",
    "        if day_of_week in births_per_day_of_week:\n",
    "            births_per_day_of_week[day_of_week] = births_per_day_of_week[day_of_week] + births\n",
    "        else:\n",
    "            births_per_day_of_week[day_of_week] = births\n",
    "    return(births_per_day_of_week)\n",
    "\n",
    "cdc_day_births = dow_births(cdc_list)\n",
    "cdc_day_births        "
   ]
  },
  {
   "cell_type": "markdown",
   "metadata": {},
   "source": [
    "# 5. Creating A More General Function\n",
    "You may have noticed that there was a lot of similarity between the two functions you just wrote. While we can also create separate functions to calculate the totals for the year and date_of_month columns, it's better to create a single function that works for any column and specify the column we want as a parameter each time we call the function.\n",
    "\n",
    "## Instructions\n",
    "* Create a function named calc_counts() that:\n",
    "    * Takes two, required parameters:\n",
    "        * data: a list of lists\n",
    "        * column: the column number we want to calculate the totals for\n",
    "    * Populates and returns a dictionary containing the total number of births for each unique value in the column at position column.\n",
    "* Use the calc_counts() function to:\n",
    "    * Return the yearly totals for the dataset and assign the result to cdc_year_births.\n",
    "    * Return the monthly totals for the dataset and assign the result to cdc_month_births.\n",
    "    * Return the day-of-month totals for the dataset and assign the result to cdc_dom_births.\n",
    "    * Return the day-of-week totals for the dataset and assign the result to cdc_dow_births."
   ]
  },
  {
   "cell_type": "code",
   "execution_count": 14,
   "metadata": {},
   "outputs": [],
   "source": [
    "def calc_count(list_of_lists, column_number):\n",
    "    births_per_column = {}\n",
    "    for m in list_of_lists:\n",
    "        column = m[column_number]\n",
    "        births = m[4]\n",
    "        if column in births_per_column:\n",
    "            births_per_column[column] = births_per_column [column] + births\n",
    "        else:\n",
    "            births_per_column[column] = births\n",
    "    return(births_per_column)\n",
    "\n",
    "cdc_year_births = calc_count(cdc_list,0)\n",
    "cdc_month_births = calc_count(cdc_list,1)\n",
    "cdc_dom_births = calc_count(cdc_list,2)\n",
    "cdc_dow_births =calc_count(cdc_list,3)"
   ]
  },
  {
   "cell_type": "code",
   "execution_count": 15,
   "metadata": {},
   "outputs": [
    {
     "data": {
      "text/plain": [
       "{1994: 3952767,\n",
       " 1995: 3899589,\n",
       " 1996: 3891494,\n",
       " 1997: 3880894,\n",
       " 1998: 3941553,\n",
       " 1999: 3959417,\n",
       " 2000: 4058814,\n",
       " 2001: 4025933,\n",
       " 2002: 4021726,\n",
       " 2003: 4089950}"
      ]
     },
     "execution_count": 15,
     "metadata": {},
     "output_type": "execute_result"
    }
   ],
   "source": [
    "cdc_year_births"
   ]
  },
  {
   "cell_type": "code",
   "execution_count": 16,
   "metadata": {},
   "outputs": [
    {
     "data": {
      "text/plain": [
       "{1: 3232517,\n",
       " 2: 3018140,\n",
       " 3: 3322069,\n",
       " 4: 3185314,\n",
       " 5: 3350907,\n",
       " 6: 3296530,\n",
       " 7: 3498783,\n",
       " 8: 3525858,\n",
       " 9: 3439698,\n",
       " 10: 3378814,\n",
       " 11: 3171647,\n",
       " 12: 3301860}"
      ]
     },
     "execution_count": 16,
     "metadata": {},
     "output_type": "execute_result"
    }
   ],
   "source": [
    "cdc_month_births"
   ]
  },
  {
   "cell_type": "code",
   "execution_count": 17,
   "metadata": {},
   "outputs": [
    {
     "data": {
      "text/plain": [
       "{1: 1276557,\n",
       " 2: 1288739,\n",
       " 3: 1304499,\n",
       " 4: 1288154,\n",
       " 5: 1299953,\n",
       " 6: 1304474,\n",
       " 7: 1310459,\n",
       " 8: 1312297,\n",
       " 9: 1303292,\n",
       " 10: 1320764,\n",
       " 11: 1314361,\n",
       " 12: 1318437,\n",
       " 13: 1277684,\n",
       " 14: 1320153,\n",
       " 15: 1319171,\n",
       " 16: 1315192,\n",
       " 17: 1324953,\n",
       " 18: 1326855,\n",
       " 19: 1318727,\n",
       " 20: 1324821,\n",
       " 21: 1322897,\n",
       " 22: 1317381,\n",
       " 23: 1293290,\n",
       " 24: 1288083,\n",
       " 25: 1272116,\n",
       " 26: 1284796,\n",
       " 27: 1294395,\n",
       " 28: 1307685,\n",
       " 29: 1223161,\n",
       " 30: 1202095,\n",
       " 31: 746696}"
      ]
     },
     "execution_count": 17,
     "metadata": {},
     "output_type": "execute_result"
    }
   ],
   "source": [
    "cdc_dom_births"
   ]
  },
  {
   "cell_type": "code",
   "execution_count": 18,
   "metadata": {},
   "outputs": [
    {
     "data": {
      "text/plain": [
       "{6: 4562111,\n",
       " 7: 4079723,\n",
       " 1: 5789166,\n",
       " 2: 6446196,\n",
       " 3: 6322855,\n",
       " 4: 6288429,\n",
       " 5: 6233657}"
      ]
     },
     "execution_count": 18,
     "metadata": {},
     "output_type": "execute_result"
    }
   ],
   "source": [
    "cdc_dow_births"
   ]
  },
  {
   "cell_type": "markdown",
   "metadata": {},
   "source": [
    "# 6. Next Steps\n",
    "\n",
    "That's it for the guided steps. Here are some suggestions for next steps:\n",
    "\n",
    "* Write a function that can calculate the min and max values for any dictionary that's passed in.\n",
    "* Write a function that extracts the same values across years and calculates the differences between consecutive values to show if number of births is increasing or decreasing.\n",
    "    * For example, how did the number of births on Saturday change each year between 1994 and 2003?\n",
    "* Find a way to combine the CDC data with the SSA data, which you can find here. Specifically, brainstorm ways to deal with the overlapping time periods in the datasets."
   ]
  },
  {
   "cell_type": "code",
   "execution_count": null,
   "metadata": {},
   "outputs": [],
   "source": []
  }
 ],
 "metadata": {
  "anaconda-cloud": {},
  "kernelspec": {
   "display_name": "Python 3",
   "language": "python",
   "name": "python3"
  },
  "language_info": {
   "codemirror_mode": {
    "name": "ipython",
    "version": 3
   },
   "file_extension": ".py",
   "mimetype": "text/x-python",
   "name": "python",
   "nbconvert_exporter": "python",
   "pygments_lexer": "ipython3",
   "version": "3.6.7"
  }
 },
 "nbformat": 4,
 "nbformat_minor": 1
}
